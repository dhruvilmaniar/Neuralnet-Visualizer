{
  "nbformat": 4,
  "nbformat_minor": 0,
  "metadata": {
    "colab": {
      "name": "main.ipynb",
      "provenance": [],
      "collapsed_sections": [],
      "authorship_tag": "ABX9TyONdokYV0RkCTy0MNYjR+yx",
      "include_colab_link": true
    },
    "kernelspec": {
      "name": "python3",
      "display_name": "Python 3"
    }
  },
  "cells": [
    {
      "cell_type": "markdown",
      "metadata": {
        "id": "view-in-github",
        "colab_type": "text"
      },
      "source": [
        "<a href=\"https://colab.research.google.com/github/dhruvilmaniar/Neuralnet-Visualizer/blob/master/src/main.ipynb\" target=\"_parent\"><img src=\"https://colab.research.google.com/assets/colab-badge.svg\" alt=\"Open In Colab\"/></a>"
      ]
    },
    {
      "cell_type": "markdown",
      "metadata": {
        "id": "WCQAbrYTswom",
        "colab_type": "text"
      },
      "source": [
        "#Neural Network Visualizer \n"
      ]
    },
    {
      "cell_type": "markdown",
      "metadata": {
        "id": "U62RCVxdtIy8",
        "colab_type": "text"
      },
      "source": [
        "Authentication to use Google drive from colab:"
      ]
    },
    {
      "cell_type": "code",
      "metadata": {
        "id": "OhPukEfGR2oX",
        "colab_type": "code",
        "colab": {}
      },
      "source": [
        "from pydrive.auth import GoogleAuth\n",
        "from pydrive.drive import GoogleDrive\n",
        "from google.colab import auth\n",
        "from oauth2client.client import GoogleCredentials"
      ],
      "execution_count": 0,
      "outputs": []
    },
    {
      "cell_type": "code",
      "metadata": {
        "id": "xCPI9VR4SlBA",
        "colab_type": "code",
        "colab": {
          "base_uri": "https://localhost:8080/",
          "height": 34
        },
        "outputId": "c552d793-cee5-45fb-86f7-e8f1ed2ad1ef"
      },
      "source": [
        "%mkdir 'NN_Vis'/\n",
        "%cd 'NN_Vis'/"
      ],
      "execution_count": 2,
      "outputs": [
        {
          "output_type": "stream",
          "text": [
            "/content/NN_Vis\n"
          ],
          "name": "stdout"
        }
      ]
    },
    {
      "cell_type": "code",
      "metadata": {
        "id": "G2AQ9ViKSlQm",
        "colab_type": "code",
        "colab": {}
      },
      "source": [
        "%matplotlib inline\n",
        "\n",
        "import tensorflow as tf\n",
        "import numpy as np\n",
        "import matplotlib.pyplot as plt"
      ],
      "execution_count": 0,
      "outputs": []
    },
    {
      "cell_type": "code",
      "metadata": {
        "id": "za_39EmYSlZJ",
        "colab_type": "code",
        "colab": {
          "base_uri": "https://localhost:8080/",
          "height": 34
        },
        "outputId": "80422b85-b003-43f1-c7c7-63ec6f5c73e6"
      },
      "source": [
        "print(tf.__version__)"
      ],
      "execution_count": 5,
      "outputs": [
        {
          "output_type": "stream",
          "text": [
            "2.2.0\n"
          ],
          "name": "stdout"
        }
      ]
    },
    {
      "cell_type": "markdown",
      "metadata": {
        "id": "o6n0AQ4HsW98",
        "colab_type": "text"
      },
      "source": [
        "###Loading the dataset:\n",
        "\n",
        "tensorflow API makes it simple to test features on mnist and fashion mnist dataset.\n",
        "\n",
        "Here for I've used fashion mnist dataset."
      ]
    },
    {
      "cell_type": "code",
      "metadata": {
        "id": "Z3_kvXtISlXI",
        "colab_type": "code",
        "colab": {
          "base_uri": "https://localhost:8080/",
          "height": 34
        },
        "outputId": "77e4dd67-a904-4670-eba8-64c42bd0fef0"
      },
      "source": [
        "(x_train, y_train), (x_test, y_test) = tf.keras.datasets.fashion_mnist.load_data()\n",
        "\n",
        "x_train.shape, y_train.shape, x_test.shape, y_test.shape"
      ],
      "execution_count": 6,
      "outputs": [
        {
          "output_type": "execute_result",
          "data": {
            "text/plain": [
              "((60000, 28, 28), (60000,), (10000, 28, 28), (10000,))"
            ]
          },
          "metadata": {
            "tags": []
          },
          "execution_count": 6
        }
      ]
    },
    {
      "cell_type": "markdown",
      "metadata": {
        "id": "apv4LraVsKen",
        "colab_type": "text"
      },
      "source": [
        "Ploting some of the images from train set to get the idea of dataset:"
      ]
    },
    {
      "cell_type": "code",
      "metadata": {
        "id": "INea5FMPSlUF",
        "colab_type": "code",
        "colab": {
          "base_uri": "https://localhost:8080/",
          "height": 589
        },
        "outputId": "30c32247-803e-4d78-a750-7ab15483393c"
      },
      "source": [
        "plt.figure(figsize=(10, 10))\n",
        "\n",
        "for i in range(16):\n",
        "    plt.subplot(4, 4, i + 1)\n",
        "    plt.imshow(x_train[i], cmap='binary')\n",
        "    plt.xlabel(str(y_train[i]))\n",
        "    plt.xticks([])\n",
        "    plt.yticks([])\n",
        "plt.show()"
      ],
      "execution_count": 7,
      "outputs": [
        {
          "output_type": "display_data",
          "data": {
            "image/png": "[encoded data removed]",
            "text/plain": [
              "<Figure size 720x720 with 16 Axes>"
            ]
          },
          "metadata": {
            "tags": []
          }
        }
      ]
    },
    {
      "cell_type": "markdown",
      "metadata": {
        "id": "ICa2MCk_r9VU",
        "colab_type": "text"
      },
      "source": [
        "###Normalizing the data:\n",
        "\n",
        "The data contains values from 0 to 255, which is normalized for faster execution."
      ]
    },
    {
      "cell_type": "code",
      "metadata": {
        "id": "uEEJlshLUSE-",
        "colab_type": "code",
        "colab": {}
      },
      "source": [
        "x_train = np.reshape(x_train, (60000, 784))\n",
        "x_train = x_train / 255.\n",
        "\n",
        "x_test = np.reshape(x_test, (10000, 784))\n",
        "x_test = x_test / 255."
      ],
      "execution_count": 0,
      "outputs": []
    },
    {
      "cell_type": "code",
      "metadata": {
        "id": "YjqL49sSUSVg",
        "colab_type": "code",
        "colab": {
          "base_uri": "https://localhost:8080/",
          "height": 34
        },
        "outputId": "02839409-51c8-46b0-a05c-6bed90423d2d"
      },
      "source": [
        "x_train[1].shape, y_train[1].shape"
      ],
      "execution_count": 9,
      "outputs": [
        {
          "output_type": "execute_result",
          "data": {
            "text/plain": [
              "((784,), ())"
            ]
          },
          "metadata": {
            "tags": []
          },
          "execution_count": 9
        }
      ]
    },
    {
      "cell_type": "markdown",
      "metadata": {
        "id": "jKb84nDKrmzF",
        "colab_type": "text"
      },
      "source": [
        "##Defining the model architecture :\n",
        "\n",
        "A simple model with total 2 hidden and 1 output layer is defined, so that the visulization can be attractive."
      ]
    },
    {
      "cell_type": "code",
      "metadata": {
        "id": "iwxOSX17USex",
        "colab_type": "code",
        "colab": {}
      },
      "source": [
        "def create_model():\n",
        "\n",
        "    model = tf.keras.models.Sequential([\n",
        "        tf.keras.layers.Dense(32, activation='relu', input_shape=(784,)),\n",
        "        tf.keras.layers.Dense(32, activation='relu'),\n",
        "        tf.keras.layers.Dense(32, activation='relu'),\n",
        "        tf.keras.layers.Dense(10, activation='softmax')\n",
        "    ])\n",
        "\n",
        "    model.compile(loss='sparse_categorical_crossentropy', \n",
        "                  optimizer='adam', \n",
        "                  metrics=['accuracy']\n",
        "          )\n",
        "    \n",
        "    return model"
      ],
      "execution_count": 0,
      "outputs": []
    },
    {
      "cell_type": "code",
      "metadata": {
        "id": "Rr9FWsNxl5Jn",
        "colab_type": "code",
        "colab": {}
      },
      "source": [
        "model = create_model()"
      ],
      "execution_count": 0,
      "outputs": []
    },
    {
      "cell_type": "code",
      "metadata": {
        "id": "90Yg6zRUUSxB",
        "colab_type": "code",
        "colab": {
          "base_uri": "https://localhost:8080/",
          "height": 289
        },
        "outputId": "0c0cc9aa-7c67-4e9f-f195-b26b1048c920"
      },
      "source": [
        "model.summary()"
      ],
      "execution_count": 24,
      "outputs": [
        {
          "output_type": "stream",
          "text": [
            "Model: \"sequential_3\"\n",
            "_________________________________________________________________\n",
            "Layer (type)                 Output Shape              Param #   \n",
            "=================================================================\n",
            "dense_12 (Dense)             (None, 32)                25120     \n",
            "_________________________________________________________________\n",
            "dense_13 (Dense)             (None, 32)                1056      \n",
            "_________________________________________________________________\n",
            "dense_14 (Dense)             (None, 32)                1056      \n",
            "_________________________________________________________________\n",
            "dense_15 (Dense)             (None, 10)                330       \n",
            "=================================================================\n",
            "Total params: 27,562\n",
            "Trainable params: 27,562\n",
            "Non-trainable params: 0\n",
            "_________________________________________________________________\n"
          ],
          "name": "stdout"
        }
      ]
    },
    {
      "cell_type": "code",
      "metadata": {
        "id": "mWfXOcCaUSdD",
        "colab_type": "code",
        "colab": {
          "base_uri": "https://localhost:8080/",
          "height": 697
        },
        "outputId": "113860af-ac89-487d-b724-87806ce1faec"
      },
      "source": [
        "_ = model.fit(\n",
        "    x_train, y_train,\n",
        "    validation_data=(x_test, y_test),\n",
        "    epochs=20, batch_size=1024,\n",
        "    verbose=2\n",
        ") \n",
        "// No callbacks are used in this simple model."
      ],
      "execution_count": 25,
      "outputs": [
        {
          "output_type": "stream",
          "text": [
            "Epoch 1/20\n",
            "59/59 - 1s - loss: 1.3752 - accuracy: 0.5291 - val_loss: 0.7302 - val_accuracy: 0.7497\n",
            "Epoch 2/20\n",
            "59/59 - 0s - loss: 0.6009 - accuracy: 0.7944 - val_loss: 0.5584 - val_accuracy: 0.8068\n",
            "Epoch 3/20\n",
            "59/59 - 0s - loss: 0.5002 - accuracy: 0.8274 - val_loss: 0.5065 - val_accuracy: 0.8224\n",
            "Epoch 4/20\n",
            "59/59 - 0s - loss: 0.4552 - accuracy: 0.8414 - val_loss: 0.4846 - val_accuracy: 0.8302\n",
            "Epoch 5/20\n",
            "59/59 - 0s - loss: 0.4331 - accuracy: 0.8489 - val_loss: 0.4737 - val_accuracy: 0.8310\n",
            "Epoch 6/20\n",
            "59/59 - 0s - loss: 0.4126 - accuracy: 0.8561 - val_loss: 0.4490 - val_accuracy: 0.8440\n",
            "Epoch 7/20\n",
            "59/59 - 0s - loss: 0.3995 - accuracy: 0.8601 - val_loss: 0.4340 - val_accuracy: 0.8490\n",
            "Epoch 8/20\n",
            "59/59 - 0s - loss: 0.3889 - accuracy: 0.8640 - val_loss: 0.4303 - val_accuracy: 0.8488\n",
            "Epoch 9/20\n",
            "59/59 - 0s - loss: 0.3775 - accuracy: 0.8671 - val_loss: 0.4150 - val_accuracy: 0.8535\n",
            "Epoch 10/20\n",
            "59/59 - 0s - loss: 0.3688 - accuracy: 0.8705 - val_loss: 0.4394 - val_accuracy: 0.8466\n",
            "Epoch 11/20\n",
            "59/59 - 0s - loss: 0.3614 - accuracy: 0.8731 - val_loss: 0.4073 - val_accuracy: 0.8578\n",
            "Epoch 12/20\n",
            "59/59 - 0s - loss: 0.3546 - accuracy: 0.8752 - val_loss: 0.4017 - val_accuracy: 0.8605\n",
            "Epoch 13/20\n",
            "59/59 - 0s - loss: 0.3500 - accuracy: 0.8767 - val_loss: 0.4039 - val_accuracy: 0.8559\n",
            "Epoch 14/20\n",
            "59/59 - 0s - loss: 0.3450 - accuracy: 0.8774 - val_loss: 0.4012 - val_accuracy: 0.8587\n",
            "Epoch 15/20\n",
            "59/59 - 0s - loss: 0.3387 - accuracy: 0.8806 - val_loss: 0.3921 - val_accuracy: 0.8605\n",
            "Epoch 16/20\n",
            "59/59 - 0s - loss: 0.3339 - accuracy: 0.8811 - val_loss: 0.3919 - val_accuracy: 0.8637\n",
            "Epoch 17/20\n",
            "59/59 - 0s - loss: 0.3276 - accuracy: 0.8837 - val_loss: 0.3826 - val_accuracy: 0.8641\n",
            "Epoch 18/20\n",
            "59/59 - 0s - loss: 0.3263 - accuracy: 0.8837 - val_loss: 0.3833 - val_accuracy: 0.8644\n",
            "Epoch 19/20\n",
            "59/59 - 0s - loss: 0.3192 - accuracy: 0.8866 - val_loss: 0.3838 - val_accuracy: 0.8657\n",
            "Epoch 20/20\n",
            "59/59 - 0s - loss: 0.3190 - accuracy: 0.8856 - val_loss: 0.3791 - val_accuracy: 0.8657\n"
          ],
          "name": "stdout"
        }
      ]
    },
    {
      "cell_type": "markdown",
      "metadata": {
        "id": "AyBLwTcLrDYf",
        "colab_type": "text"
      },
      "source": [
        "For this simple project, the model is saved as ```.h5py``` format."
      ]
    },
    {
      "cell_type": "code",
      "metadata": {
        "id": "N2_INoVfU8DV",
        "colab_type": "code",
        "colab": {}
      },
      "source": [
        "model.save('model.h5')    "
      ],
      "execution_count": 0,
      "outputs": []
    },
    {
      "cell_type": "markdown",
      "metadata": {
        "id": "0aqnYFgqqbfJ",
        "colab_type": "text"
      },
      "source": [
        "As I am using google colab, the following code will upload the model to my drive.\n",
        "\n",
        "The same can be used to store this notebook as well as server.py and app.py."
      ]
    },
    {
      "cell_type": "code",
      "metadata": {
        "id": "fCZBxFVqmsc3",
        "colab_type": "code",
        "colab": {}
      },
      "source": [
        "auth.authenticate_user()\n",
        "gauth = GoogleAuth()\n",
        "gauth.credentials = GoogleCredentials.get_application_default()\n",
        "drive = GoogleDrive(gauth)"
      ],
      "execution_count": 0,
      "outputs": []
    },
    {
      "cell_type": "code",
      "metadata": {
        "id": "-JsTXV4AU8LJ",
        "colab_type": "code",
        "colab": {}
      },
      "source": [
        "model_file = drive.CreateFile({'title' : 'model.h5'})\n",
        "model_file.SetContentFile('model.h5')\n",
        "model_file.Upload()"
      ],
      "execution_count": 0,
      "outputs": []
    },
    {
      "cell_type": "code",
      "metadata": {
        "id": "aGAVQglGU8Hw",
        "colab_type": "code",
        "colab": {
          "base_uri": "https://localhost:8080/",
          "height": 34
        },
        "outputId": "966e4ba7-d496-4584-c809-691a3e68937d"
      },
      "source": [
        "print('Uploaded file with ID {}'.format(model_file.get('id')))"
      ],
      "execution_count": 30,
      "outputs": [
        {
          "output_type": "stream",
          "text": [
            "Uploaded file with ID 1pXmr_fyZfSg5vk--jKc_86VnY597AjOa\n"
          ],
          "name": "stdout"
        }
      ]
    },
    {
      "cell_type": "markdown",
      "metadata": {
        "id": "BXx-8JuNp19a",
        "colab_type": "text"
      },
      "source": [
        "##Creating server for the application using flask:\n",
        "\n",
        "Here the server is created using flask and inferencing is performed by loading the above saved model.\n",
        "Also, the result is sent to the frontend, which contains the prediction as well as values for each layer of the network."
      ]
    },
    {
      "cell_type": "code",
      "metadata": {
        "id": "OIsKBRVrxC9B",
        "colab_type": "code",
        "colab": {}
      },
      "source": [
        "%mkdir src\n",
        "%cd src"
      ],
      "execution_count": 0,
      "outputs": []
    },
    {
      "cell_type": "code",
      "metadata": {
        "id": "_lwcQLteU8Bq",
        "colab_type": "code",
        "colab": {
          "base_uri": "https://localhost:8080/",
          "height": 34
        },
        "outputId": "863575e0-3d44-4f9b-9e8f-828a3876a2b8"
      },
      "source": [
        "%%writefile ml_server.py\n",
        "\n",
        "import json\n",
        "import tensorflow as tf\n",
        "import numpy as np\n",
        "import os\n",
        "import random\n",
        "import string\n",
        "\n",
        "from flask import Flask, request\n",
        "\n",
        "app = Flask(__name__)\n",
        "\n",
        "model = tf.keras.models.load_model('model.h5')\n",
        "feature_model = tf.keras.models.Model(model.inputs, [layer.output for layer in model.layers])\n",
        "\n",
        "_, (x_test, _) = tf.keras.datasets.mnist.load_data()\n",
        "x_test = x_test / 255.\n",
        "\n",
        "def get_prediction():\n",
        "    index = np.random.choice(x_test.shape[0])\n",
        "    image = x_test[index,:,:]\n",
        "    image_arr = np.reshape(image, (1, 784))\n",
        "    return feature_model.predict(image_arr), image\n",
        "\n",
        "@app.route('/', methods=['GET', 'POST'])\n",
        "def index():\n",
        "    if request.method == 'POST':\n",
        "        preds, image = get_prediction()\n",
        "        final_preds = [p.tolist() for p in preds]\n",
        "        return json.dumps({'prediction': final_preds, 'image': image.tolist()})\n",
        "    return 'Welcome to the ml server'\n",
        "\n",
        "if __name__ == '__main__':\n",
        "    app.run()\n"
      ],
      "execution_count": 37,
      "outputs": [
        {
          "output_type": "stream",
          "text": [
            "Writing ./src/ml_server.py\n"
          ],
          "name": "stdout"
        }
      ]
    },
    {
      "cell_type": "markdown",
      "metadata": {
        "id": "JR5nZzvfpeTa",
        "colab_type": "text"
      },
      "source": [
        "##Creating streamlit UI and ploting the response recieved from the server:"
      ]
    },
    {
      "cell_type": "code",
      "metadata": {
        "id": "LQ42DuBqU797",
        "colab_type": "code",
        "colab": {
          "base_uri": "https://localhost:8080/",
          "height": 34
        },
        "outputId": "13b5720d-6e7b-40bd-ee59-1d633d4a14d7"
      },
      "source": [
        "%%writefile app.py\n",
        "\n",
        "import requests\n",
        "import json\n",
        "import numpy as np\n",
        "import streamlit as st\n",
        "import os\n",
        "import matplotlib.pyplot as plt\n",
        "\n",
        "URI = 'http://127.0.0.1:5000'\n",
        "\n",
        "st.title('Neural Network Visualizer')\n",
        "st.sidebar.markdown('# Input Image')\n",
        "\n",
        "if st.button('Get random predictions'):\n",
        "    response = requests.post(URI, data={})\n",
        "    response = json.loads(response.text)\n",
        "    preds = response.get('prediction')\n",
        "    image = response.get('image')\n",
        "    image = np.reshape(image, (28, 28))\n",
        "\n",
        "    st.sidebar.image(image, width=150)\n",
        "\n",
        "    for layer, p in enumerate(preds):\n",
        "        numbers = np.squeeze(np.array(p))\n",
        "\n",
        "        plt.figure(figsize=(32, 4))\n",
        "\n",
        "        if layer == 2:\n",
        "            row = 1\n",
        "            col = 10\n",
        "        else:\n",
        "            row = 2\n",
        "            col = 16\n",
        "\n",
        "        for i, number in enumerate(numbers):\n",
        "            plt.subplot(row, col, i + 1)\n",
        "            plt.imshow((number * np.ones((8, 8, 3))).astype('float32'), cmap='binary')\n",
        "            plt.xticks([])\n",
        "            plt.yticks([])\n",
        "            if layer == 2:\n",
        "                plt.xlabel(str(i), fontsize=40)\n",
        "        plt.subplots_adjust(wspace=0.05, hspace=0.05)\n",
        "        plt.tight_layout()\n",
        "\n",
        "        st.text('Layer {}'.format(layer + 1), )\n",
        "        st.pyplot()\n"
      ],
      "execution_count": 36,
      "outputs": [
        {
          "output_type": "stream",
          "text": [
            "Writing ./src/app.py\n"
          ],
          "name": "stdout"
        }
      ]
    },
    {
      "cell_type": "code",
      "metadata": {
        "id": "7W1VZ8yHUSa7",
        "colab_type": "code",
        "colab": {}
      },
      "source": [
        ""
      ],
      "execution_count": 0,
      "outputs": []
    }
  ]
}